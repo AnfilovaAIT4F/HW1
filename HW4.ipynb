{
 "cells": [
  {
   "cell_type": "code",
   "execution_count": 1,
   "metadata": {},
   "outputs": [
    {
     "name": "stdout",
     "output_type": "stream",
     "text": [
      "Insert password: ········\n",
      "{'user': 'postgres', 'dbname': 'postgres', 'host': 'localhost', 'port': '5432', 'tty': '', 'options': '', 'sslmode': 'prefer', 'sslcompression': '0', 'krbsrvname': 'postgres', 'target_session_attrs': 'any'}\n"
     ]
    }
   ],
   "source": [
    "####импортируем всякие нужные штучки\n",
    "import psycopg2 # драйвер для postgresql\n",
    "import getpass  # прячем параль, чтобы не писать его в параметрах\n",
    "### создаем соединение\n",
    "conn=psycopg2.connect(user='postgres',\n",
    "                      database='postgres',##название базы данных мб другое, как и другие параметры соединения, измените под свои\n",
    "                      host='localhost',\n",
    "                      port='5432',\n",
    "                      password=getpass.getpass('Insert password: ')\n",
    "                        )\n",
    "print(conn.get_dsn_parameters())###Проверка, что все норм подключилось"
   ]
  },
  {
   "cell_type": "code",
   "execution_count": 4,
   "metadata": {},
   "outputs": [
    {
     "data": {
      "text/html": [
       "<div>\n",
       "<style scoped>\n",
       "    .dataframe tbody tr th:only-of-type {\n",
       "        vertical-align: middle;\n",
       "    }\n",
       "\n",
       "    .dataframe tbody tr th {\n",
       "        vertical-align: top;\n",
       "    }\n",
       "\n",
       "    .dataframe thead th {\n",
       "        text-align: right;\n",
       "    }\n",
       "</style>\n",
       "<table border=\"1\" class=\"dataframe\">\n",
       "  <thead>\n",
       "    <tr style=\"text-align: right;\">\n",
       "      <th></th>\n",
       "      <th>Platform</th>\n",
       "      <th>count</th>\n",
       "    </tr>\n",
       "  </thead>\n",
       "  <tbody>\n",
       "    <tr>\n",
       "      <th>0</th>\n",
       "      <td>LSE</td>\n",
       "      <td>251</td>\n",
       "    </tr>\n",
       "    <tr>\n",
       "      <th>1</th>\n",
       "      <td>ИНТЕРФАКС</td>\n",
       "      <td>1</td>\n",
       "    </tr>\n",
       "    <tr>\n",
       "      <th>2</th>\n",
       "      <td>Московская Биржа</td>\n",
       "      <td>2877</td>\n",
       "    </tr>\n",
       "    <tr>\n",
       "      <th>3</th>\n",
       "      <td>Московская Биржа - РТС</td>\n",
       "      <td>613</td>\n",
       "    </tr>\n",
       "    <tr>\n",
       "      <th>4</th>\n",
       "      <td>НФА</td>\n",
       "      <td>2047</td>\n",
       "    </tr>\n",
       "    <tr>\n",
       "      <th>5</th>\n",
       "      <td>ЦБ России</td>\n",
       "      <td>1599</td>\n",
       "    </tr>\n",
       "  </tbody>\n",
       "</table>\n",
       "</div>"
      ],
      "text/plain": [
       "                  Platform  count\n",
       "0                     LSE     251\n",
       "1               ИНТЕРФАКС       1\n",
       "2        Московская Биржа    2877\n",
       "3  Московская Биржа - РТС     613\n",
       "4                     НФА    2047\n",
       "5               ЦБ России    1599"
      ]
     },
     "execution_count": 4,
     "metadata": {},
     "output_type": "execute_result"
    }
   ],
   "source": [
    "###Таблица для отчета Распределение эмитентов по различным платформам\n",
    "import pandas as pd\n",
    "query=\"SELECT \\\"Platform\\\", count(distinct \\\"ISIN\\\")  FROM listing_task Group by \\\"Platform\\\";\"\n",
    "price_in=pd.read_sql_query(query,conn)\n",
    "price_in"
   ]
  },
  {
   "cell_type": "code",
   "execution_count": 5,
   "metadata": {},
   "outputs": [
    {
     "data": {
      "image/png": "[encoded data removed]",
      "text/plain": [
       "<Figure size 432x288 with 1 Axes>"
      ]
     },
     "metadata": {
      "needs_background": "light"
     },
     "output_type": "display_data"
    },
    {
     "data": {
      "text/plain": [
       "<Figure size 432x288 with 0 Axes>"
      ]
     },
     "metadata": {},
     "output_type": "display_data"
    }
   ],
   "source": [
    "###График для 4 дз 3 Дз пока не сделано, поэтому строим рандомный график не оч красивый ( почему-то он учитывает первый и второй столбец вместо второго и третьего,\n",
    "# но для показа как делать отчет подойдет )\n",
    "import matplotlib as plt\n",
    "import matplotlib.pyplot as plt\n",
    "price_in.T\n",
    "plt.hist(price_in.values)\n",
    "plt.title('Распределение эмитентов по платформам')\n",
    "plt.show()\n",
    "####Сохраняем картинку в рабочую диреткорию\n",
    "plt.savefig('price_in.png')"
   ]
  },
  {
   "cell_type": "code",
   "execution_count": 6,
   "metadata": {},
   "outputs": [],
   "source": [
    "# 4 ДЗ\n",
    "# Импортируем нужные библиотеки и следуем инструкции выложенной на гитхабе\n",
    "from __future__ import print_function\n",
    "from jinja2 import Environment, FileSystemLoader\n",
    "from weasyprint import HTML, Document\n",
    "import os\n",
    "####Указываем какие файлы и откуда и с каким описанием экспортируем\n",
    "env = Environment(loader=FileSystemLoader('.'))\n",
    "template = env.get_template(\"myreport.html\") # Данный шаблон должен так же находится в рабочей директории\n",
    "template_vars = {\"title\": \"Отчет составлен Анфиловой Александрой\", ###Заголовок отчета\n",
    "                \"INTRO\": \"Данный отчет содержит график распределения эмитентов по различным платформам\", \n",
    "                 \"TABLE_DESC\": \"В таблице представлено распредление эмитентов по различным платформам\", \n",
    "                 \"TABLE\": price_in.to_html(), ###Указываем какую таблицу брать и в каком формате\n",
    "                 \"IMAGE_DESC\": \"На графике изображено распрделение эмитентов по различным платформам\", \n",
    "                 \"IMAGE\": os.path.realpath('price_in.png') #### Указываем путь до графика ( здесь он сохранен в рабочей директории)\n",
    "                }\n",
    "\n",
    "# Собираем и печатаем репорт\n",
    "html_out = template.render(template_vars, presentational_hints=True)\n",
    "HTML(string=html_out).write_pdf('Д4_отчет_Анфилова.pdf', presentational_hints=True)\n"
   ]
  },
  {
   "cell_type": "code",
   "execution_count": null,
   "metadata": {},
   "outputs": [],
   "source": []
  }
 ],
 "metadata": {
  "kernelspec": {
   "display_name": "Python 3",
   "language": "python",
   "name": "python3"
  },
  "language_info": {
   "codemirror_mode": {
    "name": "ipython",
    "version": 3
   },
   "file_extension": ".py",
   "mimetype": "text/x-python",
   "name": "python",
   "nbconvert_exporter": "python",
   "pygments_lexer": "ipython3",
   "version": "3.7.3"
  }
 },
 "nbformat": 4,
 "nbformat_minor": 2
}
